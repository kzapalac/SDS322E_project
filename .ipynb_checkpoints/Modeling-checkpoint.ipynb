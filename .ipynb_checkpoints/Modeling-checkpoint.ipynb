{
 "cells": [
  {
   "cell_type": "markdown",
   "id": "ec6b51fe",
   "metadata": {},
   "source": [
    "# Modeling Our Data Using Classification Methods"
   ]
  },
  {
   "cell_type": "code",
   "execution_count": 1,
   "id": "ef3150b8",
   "metadata": {},
   "outputs": [],
   "source": [
    "import numpy as np\n",
    "import pandas as pd\n",
    "import matplotlib.pyplot as plt\n",
    "from sklearn.datasets import load_iris\n",
    "\n",
    "# preprocessing\n",
    "from sklearn.model_selection import train_test_split\n",
    "from sklearn.preprocessing import StandardScaler\n",
    "\n",
    "# models\n",
    "from sklearn import linear_model # logistic regression\n",
    "from sklearn.linear_model import LogisticRegression\n",
    "\n",
    "# hyper-parameter tuning and cross-validation\n",
    "from sklearn.model_selection import GridSearchCV\n",
    "from sklearn.model_selection import cross_val_score\n",
    "\n",
    "# model evaluation\n",
    "from sklearn.metrics import classification_report\n",
    "from sklearn.metrics import confusion_matrix\n",
    "\n",
    "# plotting\n",
    "import matplotlib.pyplot as plt\n",
    "import seaborn as sns"
   ]
  },
  {
   "cell_type": "markdown",
   "id": "56304a60",
   "metadata": {},
   "source": [
    "## Modeling Our Data\n",
    "1. Define the predictors and outcome\n",
    "    - Decided to include all questions answered rather than an average over the questions for each scale. I would only want to use an average for the scales if I think that the coefficient for all the questions would be the same. It's possible that while the questions in these scales were designed to represent the same trait/behavior that some questions are more revealing of which group someone is in. if this is the case, then we would want to use all the individual questions as features rather than the averages. I'm just going to go ahead and include each individual question.\n",
    "2. Perform any preprocessing necessary:\n",
    "    - Convert features and outcome to numerical (0's and 1's)\n",
    "3. Split into training and test sets\n",
    "    - used a 70/30 split since our dataset is small\n",
    "    - scaled the predictors after because that is often necessary for logistic regression\n",
    "4. Define the classifiers I want to use\n",
    "    - Decided on logistic regression because I am interested in including an interaction as a predictor in the model. Whil eother models can implicitly capture interactions, I want to compare a model without an interaction term to a model with an interction term. \n",
    "5. Perform hyper-parameter tuning using cross-validation on the training data to decide on the best model\n",
    "    - Potentially penalize for number of predictors since our dataset is so small. Explain the penalty used.\n",
    "    - Used accuracy to perform hyper-parameter tuning. Since the classes are fairly balanced and I'm not differentially concerned about false positives or false negatives, accuracy is a good metric to evaluate these models with. I want to see if it's possible for these models to produce accurate predictions of which condition someone was in, and it's ok if the model is slightly better at predicting that someone is in the in-group vs out-group for example.\n",
    "6. Evaluate the performance of the best model chosen in the previous step on the test data\n",
    "    - Ussed accuracy for the same reasons as above\n",
    "    - Looked at confusion matrix\n",
    "7. Determine feature importance to increase the interpretability of the model\n",
    "    - Look at coefficients"
   ]
  },
  {
   "cell_type": "code",
   "execution_count": 2,
   "id": "1cb0cec8",
   "metadata": {},
   "outputs": [],
   "source": [
    "df = pd.read_csv('LP_dictator_cleaned.csv')"
   ]
  },
  {
   "cell_type": "code",
   "execution_count": 3,
   "id": "d35b9ca5",
   "metadata": {},
   "outputs": [
    {
     "data": {
      "text/plain": [
       "Index(['participantID', 'startDate', 'endDate', 'age', 'gender', 'self_disc',\n",
       "       'priming_response', 'att_check', 'note', 'pt_1', 'pt_2', 'pt_3', 'pt_4',\n",
       "       'pt_5', 'emp', 'dg', 'lp_scale_1_1', 'lp_scale_1_2', 'lp_scale_1_3',\n",
       "       'lp_scale_1_4', 'lp_scale_1_5', 'lp_scale_1_6', 'lp_scale_1_7',\n",
       "       'lp_scale_1_8', 'lp_scale_1_9', 'lp_scale_2_1', 'lp_scale_2_2',\n",
       "       'lp_scale_2_3', 'lp_scale_2_4', 'lp_scale_2_5', 'att_check2',\n",
       "       'lp_scale_2_7', 'lp_scale_2_8', 'includeOrExclude', 'priming_received',\n",
       "       'inOrOut', 'condition', 'pt_1_reversed', 'pt_3_reversed',\n",
       "       'pt_5_reversed', 'PT_avg', 'trait_learning_avg',\n",
       "       'trait_performance_avg', 'avg_sentiment', 'words_with_sentiment',\n",
       "       'first_person_pronoun_count', 'second_person_pronoun_count',\n",
       "       'third_person_pronoun_count'],\n",
       "      dtype='object')"
      ]
     },
     "execution_count": 3,
     "metadata": {},
     "output_type": "execute_result"
    }
   ],
   "source": [
    "# checking out the columns available\n",
    "df.columns"
   ]
  },
  {
   "cell_type": "code",
   "execution_count": 4,
   "id": "398cb62e-da4a-44f6-a679-06ca0954ffe8",
   "metadata": {},
   "outputs": [],
   "source": [
    "# convert conditions to numbers to be used in models\n",
    "group_class_names = np.array(['in', 'out']) # in = 0, out = 1\n",
    "for i, name in zip(range(0,2), group_class_names):\n",
    "    df.loc[df.inOrOut == name, 'inOrOut'] = i\n",
    "priming_class_names = np.array(['performance', 'learning']) # performance = 0, learning = 1\n",
    "for i, name in zip(range(0,2), priming_class_names):\n",
    "    df.loc[df.priming_received == name, 'priming_received'] = i\n",
    "gender_class_names = np.array(['male', 'female'])\n",
    "for i, name in zip(range(0,2), gender_class_names):\n",
    "    df.loc[df.gender == name, 'gender'] = i"
   ]
  },
  {
   "cell_type": "markdown",
   "id": "6b0d9d17",
   "metadata": {},
   "source": [
    "### Classifying in-group and out-group\n",
    "First I attempted to classify participants as in-group or out-group only using their responses to the questions about perspective taking, empathy, and altruism."
   ]
  },
  {
   "cell_type": "code",
   "execution_count": 26,
   "id": "bfd48e57-4a14-407a-a823-8ecfec29402b",
   "metadata": {},
   "outputs": [
    {
     "name": "stdout",
     "output_type": "stream",
     "text": [
      "Best Parameters: {'C': 0.001, 'penalty': 'l1'}\n",
      "Coefficients:\n",
      "pt_1: 0.0\n",
      "pt_2: 0.0\n",
      "pt_3: 0.0\n",
      "pt_4: 0.0\n",
      "pt_5: 0.0\n",
      "emp: 0.0\n",
      "dg: 0.0\n",
      "Classification report for logistic regression:\n",
      "              precision    recall  f1-score   support\n",
      "\n",
      "           0       0.55      1.00      0.71        21\n",
      "           1       0.00      0.00      0.00        17\n",
      "\n",
      "    accuracy                           0.55        38\n",
      "   macro avg       0.28      0.50      0.36        38\n",
      "weighted avg       0.31      0.55      0.39        38\n",
      "\n"
     ]
    },
    {
     "name": "stderr",
     "output_type": "stream",
     "text": [
      "/opt/anaconda3/lib/python3.9/site-packages/sklearn/metrics/_classification.py:1318: UndefinedMetricWarning: Precision and F-score are ill-defined and being set to 0.0 in labels with no predicted samples. Use `zero_division` parameter to control this behavior.\n",
      "  _warn_prf(average, modifier, msg_start, len(result))\n",
      "/opt/anaconda3/lib/python3.9/site-packages/sklearn/metrics/_classification.py:1318: UndefinedMetricWarning: Precision and F-score are ill-defined and being set to 0.0 in labels with no predicted samples. Use `zero_division` parameter to control this behavior.\n",
      "  _warn_prf(average, modifier, msg_start, len(result))\n",
      "/opt/anaconda3/lib/python3.9/site-packages/sklearn/metrics/_classification.py:1318: UndefinedMetricWarning: Precision and F-score are ill-defined and being set to 0.0 in labels with no predicted samples. Use `zero_division` parameter to control this behavior.\n",
      "  _warn_prf(average, modifier, msg_start, len(result))\n"
     ]
    },
    {
     "data": {
      "image/png": "[encoded data removed]",
      "text/plain": [
       "<Figure size 800x600 with 1 Axes>"
      ]
     },
     "metadata": {},
     "output_type": "display_data"
    }
   ],
   "source": [
    "# logistic regression\n",
    "# define the predictors and outcomes\n",
    "X = np.array(df[['pt_1', 'pt_2', 'pt_3', 'pt_4', 'pt_5', 'emp', 'dg']]) # using all responses in case the slope is different for any one of them\n",
    "y = np.array(pd.to_numeric(df['inOrOut']))\n",
    "\n",
    "# split the data into a training set and a test set\n",
    "X_train, X_test, y_train, y_test = train_test_split(X, y, test_size = .3, random_state=0) # setting a larger test size since we have such a small data set, random_state: get the same answer every time\n",
    "\n",
    "# scale the X (best to do for logistic regression)\n",
    "scaler = StandardScaler()\n",
    "X_train_scaled = scaler.fit_transform(X_train)\n",
    "X_test_scaled = scaler.fit_transform(X_test)\n",
    "\n",
    "# tune the model using cross-validation on the training data\n",
    "param_grid = {'C': [0.001, 0.01, 0.1, 1, 10, 100], 'penalty': ['l1', 'l2']}\n",
    "grid_search = GridSearchCV(LogisticRegression(solver='liblinear'), param_grid, cv=5, scoring = 'accuracy') # using the liblinear solver because it's supposedly good for small datasets\n",
    "grid_search.fit(X_train_scaled, y_train)\n",
    "\n",
    "# Print the best parameters\n",
    "print(\"Best Parameters:\", grid_search.best_params_)\n",
    "\n",
    "# fit the model using the best parameters\n",
    "log_reg = LogisticRegression(C = .001, penalty = 'l1', solver='liblinear') # smaller values of C specify stronger regularization, L1 Regularization = lasso regression (removes unecssary coefficients)\n",
    "log_reg.fit(X_train_scaled, y_train)\n",
    "log_reg_predictions = log_reg.predict(X_test_scaled)\n",
    "\n",
    "# print the coefficients\n",
    "feature_names = ['pt_1', 'pt_2', 'pt_3', 'pt_4', 'pt_5', 'emp', 'dg']\n",
    "coefs = log_reg.coef_[0]\n",
    "coefs_w_names = list(zip(feature_names, coefs))\n",
    "print('Coefficients:')\n",
    "for feature, coefficient in coefs_w_names:\n",
    "    print(f\"{feature}: {coefficient}\")\n",
    "\n",
    "# evaluate\n",
    "print('Classification report for logistic regression:')\n",
    "print(classification_report(y_test, log_reg_predictions))\n",
    "\n",
    "# confusion matrix\n",
    "cm = confusion_matrix(y_test, log_reg_predictions)\n",
    "# plot the confusion matrix using seaborn\n",
    "plt.figure(figsize=(8, 6))\n",
    "sns.heatmap(cm, annot=True, fmt=\"d\", cmap=\"Blues\", cbar=False,\n",
    "           xticklabels=group_class_names, yticklabels=group_class_names)\n",
    "plt.title('Logistic Regression Confusion Matrix')\n",
    "plt.xlabel('Predicted')\n",
    "plt.ylabel('True')\n",
    "plt.show()"
   ]
  },
  {
   "cell_type": "markdown",
   "id": "b1007fd2-1cf9-4e6d-91a7-ae95766a9c8c",
   "metadata": {},
   "source": [
    "### Classifying in/out-group using additional predictors\n",
    "- Originally I thought I could include age, gender, priming received, and the interaction between priming received and trait-level learning/performance orientation. However, I realized that I would only want to include these as covariates in a model with empathy, altruism, or perspective taking as the outcome. Age and gender should not have an effect on which group someone was in because people were randomized. Gender and age are supposed to be somewhat evenly distributed across groups. When I fit a model including these predictors, it increased it's accuracy by picking up on that the out-group has a slight greater average age by chance. It wasn't picking up any relationship between age and the responses to questions. Something shoudl only be used as a predictor when it is expected to influence the outcome, not one of the other predictors.\n",
    "- **Included the additional textual analysis predictors**, but didn't age, gender, and priming received for the reasons stated above"
   ]
  },
  {
   "cell_type": "code",
   "execution_count": 43,
   "id": "ff5b7b3e-6f21-4921-94a6-cdb2762e04d2",
   "metadata": {},
   "outputs": [
    {
     "name": "stdout",
     "output_type": "stream",
     "text": [
      "Best Parameters: {'C': 0.001, 'penalty': 'l1'}\n",
      "pt_1: 0.0\n",
      "pt_2: 0.0\n",
      "pt_3: 0.0\n",
      "pt_4: 0.0\n",
      "pt_5: 0.0\n",
      "emp: 0.0\n",
      "dg: 0.0\n",
      "avg_sentiment: 0.0\n",
      "first_person_pronoun_count: 0.0\n",
      "second_person_pronoun_count: 0.0\n",
      "third_person_pronoun_count: 0.0\n",
      "Classification report for logistic regression:\n",
      "              precision    recall  f1-score   support\n",
      "\n",
      "           0       0.55      1.00      0.71        21\n",
      "           1       0.00      0.00      0.00        17\n",
      "\n",
      "    accuracy                           0.55        38\n",
      "   macro avg       0.28      0.50      0.36        38\n",
      "weighted avg       0.31      0.55      0.39        38\n",
      "\n"
     ]
    },
    {
     "name": "stderr",
     "output_type": "stream",
     "text": [
      "/opt/anaconda3/lib/python3.9/site-packages/sklearn/metrics/_classification.py:1318: UndefinedMetricWarning: Precision and F-score are ill-defined and being set to 0.0 in labels with no predicted samples. Use `zero_division` parameter to control this behavior.\n",
      "  _warn_prf(average, modifier, msg_start, len(result))\n",
      "/opt/anaconda3/lib/python3.9/site-packages/sklearn/metrics/_classification.py:1318: UndefinedMetricWarning: Precision and F-score are ill-defined and being set to 0.0 in labels with no predicted samples. Use `zero_division` parameter to control this behavior.\n",
      "  _warn_prf(average, modifier, msg_start, len(result))\n",
      "/opt/anaconda3/lib/python3.9/site-packages/sklearn/metrics/_classification.py:1318: UndefinedMetricWarning: Precision and F-score are ill-defined and being set to 0.0 in labels with no predicted samples. Use `zero_division` parameter to control this behavior.\n",
      "  _warn_prf(average, modifier, msg_start, len(result))\n"
     ]
    },
    {
     "data": {
      "image/png": "[encoded data removed]",
      "text/plain": [
       "<Figure size 800x600 with 1 Axes>"
      ]
     },
     "metadata": {},
     "output_type": "display_data"
    }
   ],
   "source": [
    "# logistic regression\n",
    "# removing what I thought I was using as covariates, but I realized the model is just picking up on differences in the distribution of age and gender in the groups\n",
    "# the covariates don't predict in/out-group but rather (potentially) have a relationship with empathy, altruism, and perspective taking\n",
    "# define the predictors and outcomes\n",
    "X = np.array(df[['pt_1', 'pt_2', 'pt_3', 'pt_4', 'pt_5', 'emp', 'dg', \n",
    "                'avg_sentiment', 'first_person_pronoun_count', 'second_person_pronoun_count', 'third_person_pronoun_count']]) # using all responses in case the slope is different for any one of them\n",
    "y = np.array(pd.to_numeric(df['inOrOut']))\n",
    "\n",
    "# split the data into a training set and a test set\n",
    "X_train, X_test, y_train, y_test = train_test_split(X, y, test_size = .3, random_state=0) # setting a larger test size since we have such a small data set, random_state: get the same answer every time\n",
    "\n",
    "# scale the X (best to do for logistic regression)\n",
    "scaler = StandardScaler()\n",
    "X_train_scaled = scaler.fit_transform(X_train)\n",
    "X_test_scaled = scaler.fit_transform(X_test)\n",
    "\n",
    "# tune the model using cross-validation on the training data\n",
    "param_grid = {'C': [0.001, 0.01, 0.1, 1, 10, 100], 'penalty': ['l1', 'l2']}\n",
    "grid_search = GridSearchCV(LogisticRegression(solver='liblinear'), param_grid, cv=5, scoring = 'accuracy') # using the liblinear solver because it's supposedly good for small datasets\n",
    "grid_search.fit(X_train_scaled, y_train)\n",
    "\n",
    "# Print the best parameters\n",
    "print(\"Best Parameters:\", grid_search.best_params_)\n",
    "\n",
    "# fit the model using the best parameters\n",
    "log_reg = LogisticRegression(C = .001, penalty = 'l1', solver='liblinear') # smaller values of C specify stronger regularization, L1 Regularization = lasso regression (removes unecssary coefficients)\n",
    "log_reg.fit(X_train_scaled, y_train)\n",
    "log_reg_predictions = log_reg.predict(X_test_scaled)\n",
    "\n",
    "# print the coefficients\n",
    "feature_names = ['pt_1', 'pt_2', 'pt_3', 'pt_4', 'pt_5', 'emp', 'dg', \n",
    "                'avg_sentiment', 'first_person_pronoun_count', 'second_person_pronoun_count', 'third_person_pronoun_count']\n",
    "coefs = log_reg.coef_[0]\n",
    "coefs_w_names = list(zip(feature_names, coefs))\n",
    "for feature, coefficient in coefs_w_names:\n",
    "    print(f\"{feature}: {coefficient}\")\n",
    "\n",
    "# evaluate\n",
    "print('Classification report for logistic regression:')\n",
    "print(classification_report(y_test, log_reg_predictions))\n",
    "\n",
    "# confusion matrix\n",
    "cm = confusion_matrix(y_test, log_reg_predictions)\n",
    "# plot the confusion matrix using seaborn\n",
    "plt.figure(figsize=(8, 6))\n",
    "sns.heatmap(cm, annot=True, fmt=\"d\", cmap=\"Blues\", cbar=False,\n",
    "           xticklabels=group_class_names, yticklabels=group_class_names)\n",
    "plt.title('Logistic Regression Confusion Matrix')\n",
    "plt.xlabel('Predicted')\n",
    "plt.ylabel('True')\n",
    "plt.show()"
   ]
  },
  {
   "cell_type": "markdown",
   "id": "89d071eb-be30-4442-8cab-ade1e3ebda19",
   "metadata": {},
   "source": [
    "### Classify priming received"
   ]
  },
  {
   "cell_type": "code",
   "execution_count": 45,
   "id": "774d3ecb-277b-4289-8faa-a00277ff229c",
   "metadata": {},
   "outputs": [
    {
     "name": "stdout",
     "output_type": "stream",
     "text": [
      "Best Parameters: {'C': 1, 'penalty': 'l2'}\n",
      "pt_1: 0.19970522746189848\n",
      "pt_2: -0.22037488578421674\n",
      "pt_3: -0.42813156101715055\n",
      "pt_4: 0.06365804022703213\n",
      "pt_5: -0.00846141533011425\n",
      "emp: 0.7070892912419351\n",
      "dg: -0.20616006593244487\n",
      "avg_sentiment: -0.3740426169767662\n",
      "first_person_pronoun_count: -0.23047025090397408\n",
      "second_person_pronoun_count: 0.14151817356063978\n",
      "third_person_pronoun_count: -0.4422405920704819\n",
      "Classification report for logistic regression:\n",
      "              precision    recall  f1-score   support\n",
      "\n",
      "           0       0.68      0.62      0.65        21\n",
      "           1       0.58      0.65      0.61        17\n",
      "\n",
      "    accuracy                           0.63        38\n",
      "   macro avg       0.63      0.63      0.63        38\n",
      "weighted avg       0.64      0.63      0.63        38\n",
      "\n"
     ]
    },
    {
     "data": {
      "image/png": "[encoded data removed]",
      "text/plain": [
       "<Figure size 800x600 with 1 Axes>"
      ]
     },
     "metadata": {},
     "output_type": "display_data"
    }
   ],
   "source": [
    "# logistic regression\n",
    "# trying it with only the predictors we would reasonably assume are related to priming received\n",
    "# trait-level performance and learning orientation technically shouldn't be associated with this\n",
    "# define the predictors and outcomes\n",
    "X = np.array(df[['pt_1', 'pt_2', 'pt_3', 'pt_4', 'pt_5', 'emp', 'dg',\n",
    "               'avg_sentiment', 'first_person_pronoun_count', 'second_person_pronoun_count', 'third_person_pronoun_count']]) # using all responses in case the slope is different for any one of them\n",
    "y = np.array(pd.to_numeric(df['priming_received']))\n",
    "\n",
    "# split the data into a training set and a test set\n",
    "X_train, X_test, y_train, y_test = train_test_split(X, y, test_size = .3, random_state=0) # setting a larger test size since we have such a small data set, random_state: get the same answer every time\n",
    "\n",
    "# scale the X (best to do for logistic regression)\n",
    "scaler = StandardScaler()\n",
    "X_train_scaled = scaler.fit_transform(X_train)\n",
    "X_test_scaled = scaler.fit_transform(X_test)\n",
    "\n",
    "# tune the model using cross-validation on the training data\n",
    "param_grid = {'C': [0.001, 0.01, 0.1, 1, 10, 100], 'penalty': ['l1', 'l2']}\n",
    "grid_search = GridSearchCV(LogisticRegression(solver='liblinear'), param_grid, cv=5, scoring = 'accuracy') # using the liblinear solver because it's supposedly good for small datasets\n",
    "grid_search.fit(X_train_scaled, y_train)\n",
    "\n",
    "# Print the best parameters\n",
    "print(\"Best Parameters:\", grid_search.best_params_)\n",
    "\n",
    "# fit the model using the best parameters\n",
    "log_reg = LogisticRegression(C = 1, penalty = 'l2', solver='liblinear', max_iter = 5000) # smaller values of C specify stronger regularization, L1 Regularization = lasso regression (removes unecssary coefficients)\n",
    "log_reg.fit(X_train_scaled, y_train)\n",
    "log_reg_predictions = log_reg.predict(X_test_scaled)\n",
    "\n",
    "# print the coefficients\n",
    "feature_names = ['pt_1', 'pt_2', 'pt_3', 'pt_4', 'pt_5', 'emp', 'dg',\n",
    "               'avg_sentiment', 'first_person_pronoun_count', 'second_person_pronoun_count', 'third_person_pronoun_count']\n",
    "coefs = log_reg.coef_[0]\n",
    "coefs_w_names = list(zip(feature_names, coefs))\n",
    "for feature, coefficient in coefs_w_names:\n",
    "    print(f\"{feature}: {coefficient}\")\n",
    "    \n",
    "# evaluate\n",
    "print('Classification report for logistic regression:')\n",
    "print(classification_report(y_test, log_reg_predictions))\n",
    "\n",
    "# confusion matrix\n",
    "cm = confusion_matrix(y_test, log_reg_predictions)\n",
    "# plot the confusion matrix using seaborn\n",
    "plt.figure(figsize=(8, 6))\n",
    "sns.heatmap(cm, annot=True, fmt=\"d\", cmap=\"Blues\", cbar=False,\n",
    "           xticklabels=priming_class_names, yticklabels=priming_class_names)\n",
    "plt.title('Logistic Regression Confusion Matrix')\n",
    "plt.xlabel('Predicted')\n",
    "plt.ylabel('True')\n",
    "plt.show()"
   ]
  },
  {
   "cell_type": "markdown",
   "id": "a2b35240-2191-43ca-87ce-b63d4b408d67",
   "metadata": {},
   "source": [
    "### Classifying Gender\n",
    "Just went ahead and used the model with everything in it since I'm using a penalty for hte number of slopes included. Any slope that is not important"
   ]
  },
  {
   "cell_type": "code",
   "execution_count": 40,
   "id": "fc686621-1573-4c3a-afcf-cfaeb9651181",
   "metadata": {},
   "outputs": [
    {
     "name": "stdout",
     "output_type": "stream",
     "text": [
      "Best Parameters: {'C': 0.1, 'penalty': 'l2'}\n",
      "\n",
      "Coefficients:\n",
      "pt_1: -0.29014410554853964\n",
      "pt_2: -0.1602185703951599\n",
      "pt_3: -0.10433201450647707\n",
      "pt_4: 0.07853123704141761\n",
      "pt_5: -0.16446664063195937\n",
      "emp: 0.22891137202472445\n",
      "dg: -0.05802731047121679\n",
      "trait_learning_avg: -0.035706336924078534\n",
      "trait_performance_avg: 0.18556562389136602\n",
      "avg_sentiment: 0.21935183178778928\n",
      "first_person_pronoun_count: -0.06518014185308302\n",
      "second_person_pronoun_count: -0.017819415577323472\n",
      "third_person_pronoun_count: -0.05174502130252831\n",
      "\n",
      "Classification report for logistic regression:\n",
      "              precision    recall  f1-score   support\n",
      "\n",
      "           0       0.54      0.39      0.45        18\n",
      "           1       0.56      0.70      0.62        20\n",
      "\n",
      "    accuracy                           0.55        38\n",
      "   macro avg       0.55      0.54      0.54        38\n",
      "weighted avg       0.55      0.55      0.54        38\n",
      "\n"
     ]
    },
    {
     "data": {
      "image/png": "[encoded data removed]",
      "text/plain": [
       "<Figure size 800x600 with 1 Axes>"
      ]
     },
     "metadata": {},
     "output_type": "display_data"
    }
   ],
   "source": [
    "# logistic regression\n",
    "# define the predictors and outcomes\n",
    "X = np.array(df[['pt_1', 'pt_2', 'pt_3', 'pt_4', 'pt_5', 'emp', 'dg', \n",
    "                 'trait_learning_avg', 'trait_performance_avg',\n",
    "                'avg_sentiment', 'first_person_pronoun_count', 'second_person_pronoun_count', 'third_person_pronoun_count']]) # using all responses in case the slope is different for any one of them\n",
    "y = np.array(pd.to_numeric(df['gender']))\n",
    "\n",
    "# split the data into a training set and a test set\n",
    "X_train, X_test, y_train, y_test = train_test_split(X, y, test_size = .3, random_state=0) # setting a larger test size since we have such a small data set, random_state: get the same answer every time\n",
    "\n",
    "# scale the X (best to do for logistic regression)\n",
    "scaler = StandardScaler()\n",
    "X_train_scaled = scaler.fit_transform(X_train)\n",
    "X_test_scaled = scaler.fit_transform(X_test)\n",
    "\n",
    "# tune the model using cross-validation on the training data\n",
    "param_grid = {'C': [0.001, 0.01, 0.1, 1, 10, 100], 'penalty': ['l1', 'l2']}\n",
    "grid_search = GridSearchCV(LogisticRegression(solver='liblinear'), param_grid, cv=5, scoring = 'accuracy') # using the liblinear solver because it's supposedly good for small datasets\n",
    "grid_search.fit(X_train_scaled, y_train)\n",
    "\n",
    "# Print the best parameters\n",
    "print(\"Best Parameters:\", grid_search.best_params_)\n",
    "\n",
    "# fit the model using the best parameters\n",
    "log_reg = LogisticRegression(C = .1, penalty = 'l2', solver='liblinear') # smaller values of C specify stronger regularization, L1 Regularization = lasso regression (removes unecssary coefficients)\n",
    "log_reg.fit(X_train_scaled, y_train)\n",
    "log_reg_predictions = log_reg.predict(X_test_scaled)\n",
    "\n",
    "# print the coefficients\n",
    "feature_names = ['pt_1', 'pt_2', 'pt_3', 'pt_4', 'pt_5', 'emp', 'dg', \n",
    "                 'trait_learning_avg', 'trait_performance_avg',\n",
    "                'avg_sentiment', 'first_person_pronoun_count', 'second_person_pronoun_count', 'third_person_pronoun_count']\n",
    "coefs = log_reg.coef_[0]\n",
    "coefs_w_names = list(zip(feature_names, coefs))\n",
    "print('\\nCoefficients:')\n",
    "for feature, coefficient in coefs_w_names:\n",
    "    print(f\"{feature}: {coefficient}\")\n",
    "\n",
    "# evaluate\n",
    "print('\\nClassification report for logistic regression:')\n",
    "print(classification_report(y_test, log_reg_predictions))\n",
    "\n",
    "# confusion matrix\n",
    "cm = confusion_matrix(y_test, log_reg_predictions)\n",
    "# plot the confusion matrix using seaborn\n",
    "plt.figure(figsize=(8, 6))\n",
    "sns.heatmap(cm, annot=True, fmt=\"d\", cmap=\"Blues\", cbar=False,\n",
    "           xticklabels=gender_class_names, yticklabels=gender_class_names)\n",
    "plt.title('Logistic Regression Confusion Matrix')\n",
    "plt.xlabel('Predicted')\n",
    "plt.ylabel('True')\n",
    "plt.show()"
   ]
  },
  {
   "cell_type": "markdown",
   "id": "a7ece578-e05d-4e79-a086-9c1dd0c760d9",
   "metadata": {},
   "source": [
    "### Predicting Empathy"
   ]
  },
  {
   "cell_type": "code",
   "execution_count": null,
   "id": "8eb23a98-042c-428f-85bd-ea788efdff0b",
   "metadata": {},
   "outputs": [],
   "source": []
  }
 ],
 "metadata": {
  "kernelspec": {
   "display_name": "Python 3 (ipykernel)",
   "language": "python",
   "name": "python3"
  },
  "language_info": {
   "codemirror_mode": {
    "name": "ipython",
    "version": 3
   },
   "file_extension": ".py",
   "mimetype": "text/x-python",
   "name": "python",
   "nbconvert_exporter": "python",
   "pygments_lexer": "ipython3",
   "version": "3.9.13"
  }
 },
 "nbformat": 4,
 "nbformat_minor": 5
}
