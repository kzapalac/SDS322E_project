{
 "cells": [
  {
   "cell_type": "markdown",
   "id": "ec6b51fe",
   "metadata": {},
   "source": [
    "# Modeling Our Data Using Classification Methods"
   ]
  },
  {
   "cell_type": "code",
   "execution_count": 40,
   "id": "ef3150b8",
   "metadata": {},
   "outputs": [],
   "source": [
    "import numpy as np\n",
    "import pandas as pd\n",
    "import matplotlib.pyplot as plt\n",
    "from sklearn.datasets import load_iris\n",
    "\n",
    "# preprocessing\n",
    "from sklearn.model_selection import train_test_split\n",
    "from sklearn.preprocessing import StandardScaler\n",
    "\n",
    "# models\n",
    "from sklearn import linear_model # logistic regression\n",
    "from sklearn.linear_model import LogisticRegression\n",
    "\n",
    "# hyper-parameter tuning and cross-validation\n",
    "from sklearn.model_selection import GridSearchCV\n",
    "from sklearn.model_selection import cross_val_score\n",
    "\n",
    "# model evaluation\n",
    "from sklearn.metrics import classification_report\n",
    "from sklearn.metrics import confusion_matrix\n",
    "\n",
    "# plotting\n",
    "import matplotlib.pyplot as plt\n",
    "import seaborn as sns"
   ]
  },
  {
   "cell_type": "markdown",
   "id": "56304a60",
   "metadata": {},
   "source": [
    "## Modeling Our Data\n",
    "1. Define the predictors and outcome\n",
    "    - Decided to include all questions answered rather than an average over the questions for each scale. I would only want to use an average for the scales if I think that the coefficient for all the questions would be the same. It's possible that while the questions in these scales were designed to represent the same trait/behavior that some questions are more revealing of which group someone is in. if this is the case, then we would want to use all the individual questions as features rather than the averages. I'm just going to go ahead and include each individual question.\n",
    "2. Perform any preprocessing necessary:\n",
    "    - Convert features and outcome to numerical (0's and 1's)\n",
    "3. Split into training and test sets\n",
    "    - used a 70/30 split since our dataset is small\n",
    "    - scaled the predictors after because that is often necessary for logistic regression\n",
    "4. Define the classifiers I want to use\n",
    "    - Decided on logistic regression because I am interested in including an interaction as a predictor in the model. Whil eother models can implicitly capture interactions, I want to compare a model without an interaction term to a model with an interction term. \n",
    "5. Perform hyper-parameter tuning using cross-validation on the training data to decide on the best model\n",
    "    - Potentially penalize for number of predictors since our dataset is so small. Explain the penalty used.\n",
    "    - Used accuracy to perform hyper-parameter tuning. Since the classes are fairly balanced and I'm not differentially concerned about false positives or false negatives, accuracy is a good metric to evaluate these models with. I want to see if it's possible for these models to produce accurate predictions of which condition someone was in, and it's ok if the model is slightly better at predicting that someone is in the in-group vs out-group for example.\n",
    "6. Evaluate the performance of the best model chosen in the previous step on the test data\n",
    "    - Ussed accuracy for the same reasons as above\n",
    "    - Looked at confusion matrix\n",
    "7. Determine feature importance to increase the interpretability of the model\n",
    "    - Look at coefficients\n",
    "    - Rank feature importance using shap"
   ]
  },
  {
   "cell_type": "code",
   "execution_count": 41,
   "id": "1cb0cec8",
   "metadata": {},
   "outputs": [],
   "source": [
    "df = pd.read_csv('LP_dictator_cleaned.csv')"
   ]
  },
  {
   "cell_type": "code",
   "execution_count": 42,
   "id": "d35b9ca5",
   "metadata": {},
   "outputs": [
    {
     "data": {
      "text/plain": [
       "Index(['participantID', 'startDate', 'endDate', 'age', 'gender', 'self_disc',\n",
       "       'priming_response', 'att_check', 'note', 'pt_1', 'pt_2', 'pt_3', 'pt_4',\n",
       "       'pt_5', 'emp', 'dg', 'lp_scale_1_1', 'lp_scale_1_2', 'lp_scale_1_3',\n",
       "       'lp_scale_1_4', 'lp_scale_1_5', 'lp_scale_1_6', 'lp_scale_1_7',\n",
       "       'lp_scale_1_8', 'lp_scale_1_9', 'lp_scale_2_1', 'lp_scale_2_2',\n",
       "       'lp_scale_2_3', 'lp_scale_2_4', 'lp_scale_2_5', 'att_check2',\n",
       "       'lp_scale_2_7', 'lp_scale_2_8', 'includeOrExclude', 'priming_received',\n",
       "       'inOrOut', 'condition', 'pt_1_reversed', 'pt_3_reversed',\n",
       "       'pt_5_reversed', 'PT_avg', 'trait_learning_avg',\n",
       "       'trait_performance_avg', 'avg_sentiment', 'words_with_sentiment',\n",
       "       'first_person_pronoun_count', 'second_person_pronoun_count',\n",
       "       'third_person_pronoun_count'],\n",
       "      dtype='object')"
      ]
     },
     "execution_count": 42,
     "metadata": {},
     "output_type": "execute_result"
    }
   ],
   "source": [
    "# checking out the columns available\n",
    "df.columns"
   ]
  },
  {
   "cell_type": "code",
   "execution_count": 54,
   "id": "398cb62e-da4a-44f6-a679-06ca0954ffe8",
   "metadata": {},
   "outputs": [],
   "source": [
    "# convert conditions to numbers to be used in models\n",
    "group_class_names = np.array(['in', 'out']) # in = 0, out = 1\n",
    "for i, name in zip(range(0,2), group_class_names):\n",
    "    df.loc[df.inOrOut == name, 'inOrOut'] = i\n",
    "priming_class_names = np.array(['performance', 'learning']) # performance = 0, learning = 1\n",
    "for i, name in zip(range(0,2), priming_class_names):\n",
    "    df.loc[df.priming_received == name, 'priming_received'] = i\n",
    "gender_class_names = np.array(['male', 'female'])\n",
    "for i, name in zip(range(0,2), gender_class_names):\n",
    "    df.loc[df.gender == name, 'gender'] = i"
   ]
  },
  {
   "cell_type": "markdown",
   "id": "6b0d9d17",
   "metadata": {},
   "source": [
    "### Classifying in-group and out-group\n",
    "First I attempted to classify participants as in-group or out-group only using their responses to the questions about perspective taking, empathy, and altruism."
   ]
  },
  {
   "cell_type": "code",
   "execution_count": 56,
   "id": "bfd48e57-4a14-407a-a823-8ecfec29402b",
   "metadata": {},
   "outputs": [
    {
     "name": "stdout",
     "output_type": "stream",
     "text": [
      "Best Parameters: {'C': 0.001, 'penalty': 'l1'}\n",
      "pt_1: 0.0\n",
      "pt_2: 0.0\n",
      "pt_3: 0.0\n",
      "pt_4: 0.0\n",
      "pt_5: 0.0\n",
      "emp: 0.0\n",
      "dg: 0.0\n",
      "Classification report for logistic regression:\n",
      "              precision    recall  f1-score   support\n",
      "\n",
      "           0       0.55      1.00      0.71        21\n",
      "           1       0.00      0.00      0.00        17\n",
      "\n",
      "    accuracy                           0.55        38\n",
      "   macro avg       0.28      0.50      0.36        38\n",
      "weighted avg       0.31      0.55      0.39        38\n",
      "\n"
     ]
    },
    {
     "name": "stderr",
     "output_type": "stream",
     "text": [
      "/opt/anaconda3/lib/python3.9/site-packages/sklearn/metrics/_classification.py:1318: UndefinedMetricWarning: Precision and F-score are ill-defined and being set to 0.0 in labels with no predicted samples. Use `zero_division` parameter to control this behavior.\n",
      "  _warn_prf(average, modifier, msg_start, len(result))\n",
      "/opt/anaconda3/lib/python3.9/site-packages/sklearn/metrics/_classification.py:1318: UndefinedMetricWarning: Precision and F-score are ill-defined and being set to 0.0 in labels with no predicted samples. Use `zero_division` parameter to control this behavior.\n",
      "  _warn_prf(average, modifier, msg_start, len(result))\n",
      "/opt/anaconda3/lib/python3.9/site-packages/sklearn/metrics/_classification.py:1318: UndefinedMetricWarning: Precision and F-score are ill-defined and being set to 0.0 in labels with no predicted samples. Use `zero_division` parameter to control this behavior.\n",
      "  _warn_prf(average, modifier, msg_start, len(result))\n"
     ]
    },
    {
     "data": {
      "image/png": "[encoded data removed]",
      "text/plain": [
       "<Figure size 800x600 with 1 Axes>"
      ]
     },
     "metadata": {},
     "output_type": "display_data"
    }
   ],
   "source": [
    "# logistic regression\n",
    "# define the predictors and outcomes\n",
    "X = np.array(df[['pt_1', 'pt_2', 'pt_3', 'pt_4', 'pt_5', 'emp', 'dg']]) # using all responses in case the slope is different for any one of them\n",
    "y = np.array(pd.to_numeric(df['inOrOut']))\n",
    "\n",
    "# split the data into a training set and a test set\n",
    "X_train, X_test, y_train, y_test = train_test_split(X, y, test_size = .3, random_state=0) # setting a larger test size since we have such a small data set, random_state: get the same answer every time\n",
    "\n",
    "# scale the X (best to do for logistic regression)\n",
    "scaler = StandardScaler()\n",
    "X_train_scaled = scaler.fit_transform(X_train)\n",
    "X_test_scaled = scaler.fit_transform(X_test)\n",
    "\n",
    "# tune the model using cross-validation on the training data\n",
    "param_grid = {'C': [0.001, 0.01, 0.1, 1, 10, 100], 'penalty': ['l1', 'l2']}\n",
    "grid_search = GridSearchCV(LogisticRegression(solver='liblinear'), param_grid, cv=5, scoring = 'accuracy') # using the liblinear solver because it's supposedly good for small datasets\n",
    "grid_search.fit(X_train_scaled, y_train)\n",
    "\n",
    "# Print the best parameters\n",
    "print(\"Best Parameters:\", grid_search.best_params_)\n",
    "\n",
    "# fit the model using the best parameters\n",
    "log_reg = LogisticRegression(C = .001, penalty = 'l1', solver='liblinear') # smaller values of C specify stronger regularization, L1 Regularization = lasso regression (removes unecssary coefficients)\n",
    "log_reg.fit(X_train_scaled, y_train)\n",
    "log_reg_predictions = log_reg.predict(X_test_scaled)\n",
    "\n",
    "# print the coefficients\n",
    "feature_names = ['pt_1', 'pt_2', 'pt_3', 'pt_4', 'pt_5', 'emp', 'dg']\n",
    "coefs = log_reg.coef_[0]\n",
    "coefs_w_names = list(zip(feature_names, coefs))\n",
    "for feature, coefficient in coefs_w_names:\n",
    "    print(f\"{feature}: {coefficient}\")\n",
    "\n",
    "# evaluate\n",
    "print('Classification report for logistic regression:')\n",
    "print(classification_report(y_test, log_reg_predictions))\n",
    "\n",
    "# confusion matrix\n",
    "cm = confusion_matrix(y_test, log_reg_predictions)\n",
    "# plot the confusion matrix using seaborn\n",
    "plt.figure(figsize=(8, 6))\n",
    "sns.heatmap(cm, annot=True, fmt=\"d\", cmap=\"Blues\", cbar=False,\n",
    "           xticklabels=group_class_names, yticklabels=group_class_names)\n",
    "plt.title('Logistic Regression Confusion Matrix')\n",
    "plt.xlabel('Predicted')\n",
    "plt.ylabel('True')\n",
    "plt.show()"
   ]
  },
  {
   "cell_type": "code",
   "execution_count": null,
   "id": "e4cf9ba8-9581-4d4a-b53f-9c714ae52499",
   "metadata": {},
   "outputs": [],
   "source": [
    "# feature importance"
   ]
  },
  {
   "cell_type": "markdown",
   "id": "41cfe2e1-d1a7-4b41-b454-9f87b0c878db",
   "metadata": {},
   "source": [
    "### Classify priming received"
   ]
  },
  {
   "cell_type": "code",
   "execution_count": 45,
   "id": "526b2da6-eddf-44a1-a996-f9cb18eb31e1",
   "metadata": {},
   "outputs": [
    {
     "name": "stdout",
     "output_type": "stream",
     "text": [
      "Best Parameters: {'C': 1, 'penalty': 'l1'}\n",
      "pt_1: 0.09130105113500078\n",
      "pt_2: -0.21520770629846292\n",
      "pt_3: -0.2176156641657952\n",
      "pt_4: 0.0\n",
      "pt_5: 0.0\n",
      "emp: 0.6520669393796644\n",
      "dg: -0.20269850225785732\n",
      "Classification report for logistic regression:\n",
      "              precision    recall  f1-score   support\n",
      "\n",
      "           0       0.67      0.48      0.56        21\n",
      "           1       0.52      0.71      0.60        17\n",
      "\n",
      "    accuracy                           0.58        38\n",
      "   macro avg       0.59      0.59      0.58        38\n",
      "weighted avg       0.60      0.58      0.58        38\n",
      "\n"
     ]
    },
    {
     "data": {
      "image/png": "[encoded data removed]",
      "text/plain": [
       "<Figure size 800x600 with 1 Axes>"
      ]
     },
     "metadata": {},
     "output_type": "display_data"
    }
   ],
   "source": [
    "# logistic regression\n",
    "# define the predictors and outcomes\n",
    "X = np.array(df[['pt_1', 'pt_2', 'pt_3', 'pt_4', 'pt_5', 'emp', 'dg']]) # using all responses in case the slope is different for any one of them\n",
    "y = np.array(pd.to_numeric(df['priming_received']))\n",
    "\n",
    "# split the data into a training set and a test set\n",
    "X_train, X_test, y_train, y_test = train_test_split(X, y, test_size = .3, random_state=0) # setting a larger test size since we have such a small data set, random_state: get the same answer every time\n",
    "\n",
    "# scale the X (best to do for logistic regression)\n",
    "scaler = StandardScaler()\n",
    "X_train_scaled = scaler.fit_transform(X_train)\n",
    "X_test_scaled = scaler.fit_transform(X_test)\n",
    "\n",
    "# tune the model using cross-validation on the training data\n",
    "param_grid = {'C': [0.001, 0.01, 0.1, 1, 10, 100], 'penalty': ['l1', 'l2']}\n",
    "grid_search = GridSearchCV(LogisticRegression(solver='liblinear'), param_grid, cv=5, scoring = 'accuracy') # using the liblinear solver because it's supposedly good for small datasets\n",
    "grid_search.fit(X_train_scaled, y_train)\n",
    "\n",
    "# Print the best parameters\n",
    "print(\"Best Parameters:\", grid_search.best_params_)\n",
    "\n",
    "# fit the model using the best parameters\n",
    "log_reg = LogisticRegression(C = 1, penalty = 'l1', solver='liblinear') # smaller values of C specify stronger regularization, L1 Regularization = lasso regression (removes unecssary coefficients)\n",
    "log_reg.fit(X_train_scaled, y_train)\n",
    "log_reg_predictions = log_reg.predict(X_test_scaled)\n",
    "\n",
    "# print the coefficients\n",
    "feature_names = ['pt_1', 'pt_2', 'pt_3', 'pt_4', 'pt_5', 'emp', 'dg']\n",
    "coefs = log_reg.coef_[0]\n",
    "coefs_w_names = list(zip(feature_names, coefs))\n",
    "for feature, coefficient in coefs_w_names:\n",
    "    print(f\"{feature}: {coefficient}\")\n",
    "    \n",
    "# evaluate\n",
    "print('Classification report for logistic regression:')\n",
    "print(classification_report(y_test, log_reg_predictions))\n",
    "\n",
    "# confusion matrix\n",
    "cm = confusion_matrix(y_test, log_reg_predictions)\n",
    "# plot the confusion matrix using seaborn\n",
    "plt.figure(figsize=(8, 6))\n",
    "sns.heatmap(cm, annot=True, fmt=\"d\", cmap=\"Blues\", cbar=False,\n",
    "           xticklabels=priming_class_names, yticklabels=priming_class_names)\n",
    "plt.title('Logistic Regression Confusion Matrix')\n",
    "plt.xlabel('Predicted')\n",
    "plt.ylabel('True')\n",
    "plt.show()"
   ]
  },
  {
   "cell_type": "code",
   "execution_count": null,
   "id": "714621c6-c9ea-4466-b785-ac3fd09521da",
   "metadata": {},
   "outputs": [],
   "source": [
    "# feature importance"
   ]
  },
  {
   "cell_type": "markdown",
   "id": "b1007fd2-1cf9-4e6d-91a7-ae95766a9c8c",
   "metadata": {},
   "source": [
    "### Classifying in/out-group using priming received and trait-level orientation now\n",
    "- There is likely an interaction between priming received and trait level orientation.\n",
    "- Use logistic regression, input priming received, trait level orientation, and priming received x trait level orientation as predictors of in/out-group.\n",
    "- Does this improve the classification of people in the in/out-group?\n",
    "- Pull the slope of the interaction term"
   ]
  },
  {
   "cell_type": "code",
   "execution_count": 50,
   "id": "5470a136-47f8-452c-901b-7d319fa40e48",
   "metadata": {},
   "outputs": [
    {
     "name": "stdout",
     "output_type": "stream",
     "text": [
      "Best Parameters: {'C': 0.001, 'penalty': 'l1'}\n",
      "pt_1: 0.0\n",
      "pt_2: 0.0\n",
      "pt_3: 0.0\n",
      "pt_4: 0.0\n",
      "pt_5: 0.0\n",
      "emp: 0.0\n",
      "dg: 0.0\n",
      "priming_received: 0.0\n",
      "trait_learning_avg: 0.0\n",
      "priming_received*trait_learning_avg: 0.0\n",
      "priming_received*trait_performance_avg: 0.0\n",
      "Classification report for logistic regression:\n",
      "              precision    recall  f1-score   support\n",
      "\n",
      "           0       0.55      1.00      0.71        21\n",
      "           1       0.00      0.00      0.00        17\n",
      "\n",
      "    accuracy                           0.55        38\n",
      "   macro avg       0.28      0.50      0.36        38\n",
      "weighted avg       0.31      0.55      0.39        38\n",
      "\n"
     ]
    },
    {
     "name": "stderr",
     "output_type": "stream",
     "text": [
      "/opt/anaconda3/lib/python3.9/site-packages/sklearn/metrics/_classification.py:1318: UndefinedMetricWarning: Precision and F-score are ill-defined and being set to 0.0 in labels with no predicted samples. Use `zero_division` parameter to control this behavior.\n",
      "  _warn_prf(average, modifier, msg_start, len(result))\n",
      "/opt/anaconda3/lib/python3.9/site-packages/sklearn/metrics/_classification.py:1318: UndefinedMetricWarning: Precision and F-score are ill-defined and being set to 0.0 in labels with no predicted samples. Use `zero_division` parameter to control this behavior.\n",
      "  _warn_prf(average, modifier, msg_start, len(result))\n",
      "/opt/anaconda3/lib/python3.9/site-packages/sklearn/metrics/_classification.py:1318: UndefinedMetricWarning: Precision and F-score are ill-defined and being set to 0.0 in labels with no predicted samples. Use `zero_division` parameter to control this behavior.\n",
      "  _warn_prf(average, modifier, msg_start, len(result))\n"
     ]
    },
    {
     "data": {
      "image/png": "[encoded data removed]",
      "text/plain": [
       "<Figure size 800x600 with 1 Axes>"
      ]
     },
     "metadata": {},
     "output_type": "display_data"
    }
   ],
   "source": [
    "# logistic regression\n",
    "# create interaction terms\n",
    "df['priming_received*trait_learning_avg'] = df['priming_received'] * df['trait_learning_avg']\n",
    "df['priming_received*trait_performance_avg'] = df['priming_received'] * df['trait_performance_avg']\n",
    "\n",
    "# define the predictors and outcomes\n",
    "X = np.array(df[['pt_1', 'pt_2', 'pt_3', 'pt_4', 'pt_5', 'emp', 'dg', 'priming_received', 'trait_learning_avg', 'priming_received*trait_learning_avg', 'priming_received*trait_performance_avg']]) # using all responses in case the slope is different for any one of them\n",
    "y = np.array(pd.to_numeric(df['inOrOut']))\n",
    "\n",
    "# split the data into a training set and a test set\n",
    "X_train, X_test, y_train, y_test = train_test_split(X, y, test_size = .3, random_state=0) # setting a larger test size since we have such a small data set, random_state: get the same answer every time\n",
    "\n",
    "# scale the X (best to do for logistic regression)\n",
    "scaler = StandardScaler()\n",
    "X_train_scaled = scaler.fit_transform(X_train)\n",
    "X_test_scaled = scaler.fit_transform(X_test)\n",
    "\n",
    "# tune the model using cross-validation on the training data\n",
    "param_grid = {'C': [0.001, 0.01, 0.1, 1, 10, 100], 'penalty': ['l1', 'l2']}\n",
    "grid_search = GridSearchCV(LogisticRegression(solver='liblinear'), param_grid, cv=5, scoring = 'accuracy') # using the liblinear solver because it's supposedly good for small datasets\n",
    "grid_search.fit(X_train_scaled, y_train)\n",
    "\n",
    "# Print the best parameters\n",
    "print(\"Best Parameters:\", grid_search.best_params_)\n",
    "\n",
    "# fit the model using the best parameters\n",
    "log_reg = LogisticRegression(C = .001, penalty = 'l1', solver='liblinear') # smaller values of C specify stronger regularization, L1 Regularization = lasso regression (removes unecssary coefficients)\n",
    "log_reg.fit(X_train_scaled, y_train)\n",
    "log_reg_predictions = log_reg.predict(X_test_scaled)\n",
    "\n",
    "# print the coefficients\n",
    "feature_names = ['pt_1', 'pt_2', 'pt_3', 'pt_4', 'pt_5', 'emp', 'dg', 'priming_received', 'trait_learning_avg', 'priming_received*trait_learning_avg', 'priming_received*trait_performance_avg']\n",
    "coefs = log_reg.coef_[0]\n",
    "coefs_w_names = list(zip(feature_names, coefs))\n",
    "for feature, coefficient in coefs_w_names:\n",
    "    print(f\"{feature}: {coefficient}\")\n",
    "\n",
    "# evaluate\n",
    "print('Classification report for logistic regression:')\n",
    "print(classification_report(y_test, log_reg_predictions))\n",
    "\n",
    "# confusion matrix\n",
    "cm = confusion_matrix(y_test, log_reg_predictions)\n",
    "# plot the confusion matrix using seaborn\n",
    "plt.figure(figsize=(8, 6))\n",
    "sns.heatmap(cm, annot=True, fmt=\"d\", cmap=\"Blues\", cbar=False,\n",
    "           xticklabels=group_class_names, yticklabels=group_class_names)\n",
    "plt.title('Logistic Regression Confusion Matrix')\n",
    "plt.xlabel('Predicted')\n",
    "plt.ylabel('True')\n",
    "plt.show()"
   ]
  },
  {
   "cell_type": "code",
   "execution_count": null,
   "id": "e10cfd22-9c82-46c0-9e61-59cc9c54ed34",
   "metadata": {},
   "outputs": [],
   "source": []
  },
  {
   "cell_type": "code",
   "execution_count": null,
   "id": "7baf9c9f-c735-48a8-87c9-660556d83409",
   "metadata": {},
   "outputs": [],
   "source": []
  },
  {
   "cell_type": "markdown",
   "id": "6b3b0d1a-d097-4c15-adb1-e8eed6d28c19",
   "metadata": {},
   "source": [
    "### Classifying in/out-group with the addition of sentiment and pronoun usage now"
   ]
  },
  {
   "cell_type": "code",
   "execution_count": 52,
   "id": "43d9e45c-8989-438b-a38f-c8b3256935cf",
   "metadata": {},
   "outputs": [
    {
     "name": "stdout",
     "output_type": "stream",
     "text": [
      "Best Parameters: {'C': 0.001, 'penalty': 'l1'}\n",
      "pt_1: 0.0\n",
      "pt_2: 0.0\n",
      "pt_3: 0.0\n",
      "pt_4: 0.0\n",
      "pt_5: 0.0\n",
      "emp: 0.0\n",
      "dg: 0.0\n",
      "priming_received: 0.0\n",
      "trait_learning_avg: 0.0\n",
      "priming_received*trait_learning_avg: 0.0\n",
      "priming_received*trait_performance_avg: 0.0\n",
      "avg_sentiment: 0.0\n",
      "first_person_pronoun_count: 0.0\n",
      "second_person_pronoun_count: 0.0\n",
      "third_person_pronoun_count: 0.0\n",
      "Classification report for logistic regression:\n",
      "              precision    recall  f1-score   support\n",
      "\n",
      "           0       0.55      1.00      0.71        21\n",
      "           1       0.00      0.00      0.00        17\n",
      "\n",
      "    accuracy                           0.55        38\n",
      "   macro avg       0.28      0.50      0.36        38\n",
      "weighted avg       0.31      0.55      0.39        38\n",
      "\n"
     ]
    },
    {
     "name": "stderr",
     "output_type": "stream",
     "text": [
      "/opt/anaconda3/lib/python3.9/site-packages/sklearn/metrics/_classification.py:1318: UndefinedMetricWarning: Precision and F-score are ill-defined and being set to 0.0 in labels with no predicted samples. Use `zero_division` parameter to control this behavior.\n",
      "  _warn_prf(average, modifier, msg_start, len(result))\n",
      "/opt/anaconda3/lib/python3.9/site-packages/sklearn/metrics/_classification.py:1318: UndefinedMetricWarning: Precision and F-score are ill-defined and being set to 0.0 in labels with no predicted samples. Use `zero_division` parameter to control this behavior.\n",
      "  _warn_prf(average, modifier, msg_start, len(result))\n",
      "/opt/anaconda3/lib/python3.9/site-packages/sklearn/metrics/_classification.py:1318: UndefinedMetricWarning: Precision and F-score are ill-defined and being set to 0.0 in labels with no predicted samples. Use `zero_division` parameter to control this behavior.\n",
      "  _warn_prf(average, modifier, msg_start, len(result))\n"
     ]
    },
    {
     "data": {
      "image/png": "[encoded data removed]",
      "text/plain": [
       "<Figure size 800x600 with 1 Axes>"
      ]
     },
     "metadata": {},
     "output_type": "display_data"
    }
   ],
   "source": [
    "# logistic regression\n",
    "# create interaction terms\n",
    "df['priming_received*trait_learning_avg'] = df['priming_received'] * df['trait_learning_avg']\n",
    "df['priming_received*trait_performance_avg'] = df['priming_received'] * df['trait_performance_avg']\n",
    "\n",
    "# define the predictors and outcomes\n",
    "X = np.array(df[['pt_1', 'pt_2', 'pt_3', 'pt_4', 'pt_5', 'emp', 'dg', \n",
    "                 'priming_received', 'trait_learning_avg', 'priming_received*trait_learning_avg', 'priming_received*trait_performance_avg',\n",
    "                'avg_sentiment', 'first_person_pronoun_count', 'second_person_pronoun_count', 'third_person_pronoun_count']]) # using all responses in case the slope is different for any one of them\n",
    "y = np.array(pd.to_numeric(df['inOrOut']))\n",
    "\n",
    "# split the data into a training set and a test set\n",
    "X_train, X_test, y_train, y_test = train_test_split(X, y, test_size = .3, random_state=0) # setting a larger test size since we have such a small data set, random_state: get the same answer every time\n",
    "\n",
    "# scale the X (best to do for logistic regression)\n",
    "scaler = StandardScaler()\n",
    "X_train_scaled = scaler.fit_transform(X_train)\n",
    "X_test_scaled = scaler.fit_transform(X_test)\n",
    "\n",
    "# tune the model using cross-validation on the training data\n",
    "param_grid = {'C': [0.001, 0.01, 0.1, 1, 10, 100], 'penalty': ['l1', 'l2']}\n",
    "grid_search = GridSearchCV(LogisticRegression(solver='liblinear'), param_grid, cv=5, scoring = 'accuracy') # using the liblinear solver because it's supposedly good for small datasets\n",
    "grid_search.fit(X_train_scaled, y_train)\n",
    "\n",
    "# Print the best parameters\n",
    "print(\"Best Parameters:\", grid_search.best_params_)\n",
    "\n",
    "# fit the model using the best parameters\n",
    "log_reg = LogisticRegression(C = .001, penalty = 'l1', solver='liblinear') # smaller values of C specify stronger regularization, L1 Regularization = lasso regression (removes unecssary coefficients)\n",
    "log_reg.fit(X_train_scaled, y_train)\n",
    "log_reg_predictions = log_reg.predict(X_test_scaled)\n",
    "\n",
    "# print the coefficients\n",
    "feature_names = ['pt_1', 'pt_2', 'pt_3', 'pt_4', 'pt_5', 'emp', 'dg', \n",
    "                 'priming_received', 'trait_learning_avg', 'priming_received*trait_learning_avg', 'priming_received*trait_performance_avg',\n",
    "                'avg_sentiment', 'first_person_pronoun_count', 'second_person_pronoun_count', 'third_person_pronoun_count']\n",
    "coefs = log_reg.coef_[0]\n",
    "coefs_w_names = list(zip(feature_names, coefs))\n",
    "for feature, coefficient in coefs_w_names:\n",
    "    print(f\"{feature}: {coefficient}\")\n",
    "\n",
    "# evaluate\n",
    "print('Classification report for logistic regression:')\n",
    "print(classification_report(y_test, log_reg_predictions))\n",
    "\n",
    "# confusion matrix\n",
    "cm = confusion_matrix(y_test, log_reg_predictions)\n",
    "# plot the confusion matrix using seaborn\n",
    "plt.figure(figsize=(8, 6))\n",
    "sns.heatmap(cm, annot=True, fmt=\"d\", cmap=\"Blues\", cbar=False,\n",
    "           xticklabels=group_class_names, yticklabels=group_class_names)\n",
    "plt.title('Logistic Regression Confusion Matrix')\n",
    "plt.xlabel('Predicted')\n",
    "plt.ylabel('True')\n",
    "plt.show()"
   ]
  },
  {
   "cell_type": "markdown",
   "id": "a2b35240-2191-43ca-87ce-b63d4b408d67",
   "metadata": {},
   "source": [
    "### Classifying Gender\n",
    "Just went ahead and used the model with everything in it since I'm using a penalty for hte number of slopes included. Any slope that is not important"
   ]
  },
  {
   "cell_type": "code",
   "execution_count": 57,
   "id": "fc686621-1573-4c3a-afcf-cfaeb9651181",
   "metadata": {},
   "outputs": [
    {
     "name": "stdout",
     "output_type": "stream",
     "text": [
      "Best Parameters: {'C': 0.01, 'penalty': 'l2'}\n",
      "pt_1: -0.08799569170414202\n",
      "pt_2: -0.006428160486564562\n",
      "pt_3: -0.05274145301235777\n",
      "pt_4: 0.02883508614308693\n",
      "pt_5: -0.06535246597531905\n",
      "emp: 0.05315805944555659\n",
      "dg: -0.002530809456457821\n",
      "priming_received: 0.028868458076077772\n",
      "trait_learning_avg: 0.01886456472705584\n",
      "priming_received*trait_learning_avg: 0.039159215797960556\n",
      "priming_received*trait_performance_avg: 0.0359234618834525\n",
      "avg_sentiment: 0.05544552718222538\n",
      "first_person_pronoun_count: -0.008341911462257351\n",
      "second_person_pronoun_count: 0.0026335754748792487\n",
      "third_person_pronoun_count: -0.01340553730388236\n",
      "Classification report for logistic regression:\n",
      "              precision    recall  f1-score   support\n",
      "\n",
      "           0       0.53      0.50      0.51        18\n",
      "           1       0.57      0.60      0.59        20\n",
      "\n",
      "    accuracy                           0.55        38\n",
      "   macro avg       0.55      0.55      0.55        38\n",
      "weighted avg       0.55      0.55      0.55        38\n",
      "\n"
     ]
    },
    {
     "data": {
      "image/png": "[encoded data removed]",
      "text/plain": [
       "<Figure size 800x600 with 1 Axes>"
      ]
     },
     "metadata": {},
     "output_type": "display_data"
    }
   ],
   "source": [
    "# logistic regression\n",
    "# define the predictors and outcomes\n",
    "X = np.array(df[['pt_1', 'pt_2', 'pt_3', 'pt_4', 'pt_5', 'emp', 'dg', \n",
    "                 'priming_received', 'trait_learning_avg', 'priming_received*trait_learning_avg', 'priming_received*trait_performance_avg',\n",
    "                'avg_sentiment', 'first_person_pronoun_count', 'second_person_pronoun_count', 'third_person_pronoun_count']]) # using all responses in case the slope is different for any one of them\n",
    "y = np.array(pd.to_numeric(df['gender']))\n",
    "\n",
    "# split the data into a training set and a test set\n",
    "X_train, X_test, y_train, y_test = train_test_split(X, y, test_size = .3, random_state=0) # setting a larger test size since we have such a small data set, random_state: get the same answer every time\n",
    "\n",
    "# scale the X (best to do for logistic regression)\n",
    "scaler = StandardScaler()\n",
    "X_train_scaled = scaler.fit_transform(X_train)\n",
    "X_test_scaled = scaler.fit_transform(X_test)\n",
    "\n",
    "# tune the model using cross-validation on the training data\n",
    "param_grid = {'C': [0.001, 0.01, 0.1, 1, 10, 100], 'penalty': ['l1', 'l2']}\n",
    "grid_search = GridSearchCV(LogisticRegression(solver='liblinear'), param_grid, cv=5, scoring = 'accuracy') # using the liblinear solver because it's supposedly good for small datasets\n",
    "grid_search.fit(X_train_scaled, y_train)\n",
    "\n",
    "# Print the best parameters\n",
    "print(\"Best Parameters:\", grid_search.best_params_)\n",
    "\n",
    "# fit the model using the best parameters\n",
    "log_reg = LogisticRegression(C = .01, penalty = 'l2', solver='liblinear') # smaller values of C specify stronger regularization, L1 Regularization = lasso regression (removes unecssary coefficients)\n",
    "log_reg.fit(X_train_scaled, y_train)\n",
    "log_reg_predictions = log_reg.predict(X_test_scaled)\n",
    "\n",
    "# print the coefficients\n",
    "feature_names = ['pt_1', 'pt_2', 'pt_3', 'pt_4', 'pt_5', 'emp', 'dg', \n",
    "                 'priming_received', 'trait_learning_avg', 'priming_received*trait_learning_avg', 'priming_received*trait_performance_avg',\n",
    "                'avg_sentiment', 'first_person_pronoun_count', 'second_person_pronoun_count', 'third_person_pronoun_count']\n",
    "coefs = log_reg.coef_[0]\n",
    "coefs_w_names = list(zip(feature_names, coefs))\n",
    "for feature, coefficient in coefs_w_names:\n",
    "    print(f\"{feature}: {coefficient}\")\n",
    "\n",
    "# evaluate\n",
    "print('Classification report for logistic regression:')\n",
    "print(classification_report(y_test, log_reg_predictions))\n",
    "\n",
    "# confusion matrix\n",
    "cm = confusion_matrix(y_test, log_reg_predictions)\n",
    "# plot the confusion matrix using seaborn\n",
    "plt.figure(figsize=(8, 6))\n",
    "sns.heatmap(cm, annot=True, fmt=\"d\", cmap=\"Blues\", cbar=False,\n",
    "           xticklabels=gender_class_names, yticklabels=gender_class_names)\n",
    "plt.title('Logistic Regression Confusion Matrix')\n",
    "plt.xlabel('Predicted')\n",
    "plt.ylabel('True')\n",
    "plt.show()"
   ]
  },
  {
   "cell_type": "code",
   "execution_count": null,
   "id": "eec9ba2d-b64f-44a1-a37d-e10b9cfacc6b",
   "metadata": {},
   "outputs": [],
   "source": []
  },
  {
   "cell_type": "code",
   "execution_count": null,
   "id": "2f830e48-975f-487b-943d-5d325fad9ce9",
   "metadata": {},
   "outputs": [],
   "source": []
  },
  {
   "cell_type": "markdown",
   "id": "3b007a36-6950-45e6-9872-ab3cc4ec7ecc",
   "metadata": {},
   "source": [
    "Feature importance using shap (works on any classifier)\n",
    "Look at a few points that were accurately classified and some that weren't\n",
    "Can later do feature importance built into random forest and compare if I want"
   ]
  },
  {
   "cell_type": "code",
   "execution_count": null,
   "id": "13377a2b-f7cb-4633-86d6-895b19f68dfc",
   "metadata": {},
   "outputs": [],
   "source": []
  }
 ],
 "metadata": {
  "kernelspec": {
   "display_name": "Python 3 (ipykernel)",
   "language": "python",
   "name": "python3"
  },
  "language_info": {
   "codemirror_mode": {
    "name": "ipython",
    "version": 3
   },
   "file_extension": ".py",
   "mimetype": "text/x-python",
   "name": "python",
   "nbconvert_exporter": "python",
   "pygments_lexer": "ipython3",
   "version": "3.9.13"
  }
 },
 "nbformat": 4,
 "nbformat_minor": 5
}
